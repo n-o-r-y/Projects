{
  "cells": [
    {
      "cell_type": "markdown",
      "metadata": {
        "id": "view-in-github",
        "colab_type": "text"
      },
      "source": [
        "<a href=\"https://colab.research.google.com/github/n-o-r-y/Projects/blob/main/ML_Projects/Smoker_Type_Prediction(Using_Spark).ipynb\" target=\"_parent\"><img src=\"https://colab.research.google.com/assets/colab-badge.svg\" alt=\"Open In Colab\"/></a>"
      ]
    },
    {
      "cell_type": "markdown",
      "metadata": {
        "id": "lJ2WeEQuOYDC"
      },
      "source": [
        "# Installation and Environment set up"
      ]
    },
    {
      "cell_type": "code",
      "execution_count": null,
      "metadata": {
        "colab": {
          "base_uri": "https://localhost:8080/"
        },
        "id": "XuEzMmT7jSWG",
        "outputId": "af60c75c-a064-4ccc-980a-ce09675d15ef"
      },
      "outputs": [
        {
          "output_type": "stream",
          "name": "stdout",
          "text": [
            "Mounted at /content/drive\n"
          ]
        }
      ],
      "source": [
        "from google.colab import drive\n",
        "drive.mount('/content/drive')"
      ]
    },
    {
      "cell_type": "code",
      "execution_count": null,
      "metadata": {
        "colab": {
          "base_uri": "https://localhost:8080/"
        },
        "id": "n7XIZtHJjgjc",
        "outputId": "d11311bc-a5c4-410b-c9d6-a28583fc3d86"
      },
      "outputs": [
        {
          "output_type": "stream",
          "name": "stdout",
          "text": [
            "/content\n",
            "--2023-11-26 05:53:51--  https://dlcdn.apache.org/spark/spark-3.4.1/spark-3.4.1-bin-hadoop3.tgz\n",
            "Resolving dlcdn.apache.org (dlcdn.apache.org)... 151.101.2.132, 2a04:4e42::644\n",
            "Connecting to dlcdn.apache.org (dlcdn.apache.org)|151.101.2.132|:443... connected.\n",
            "HTTP request sent, awaiting response... 200 OK\n",
            "Length: 388341449 (370M) [application/x-gzip]\n",
            "Saving to: ‘spark-3.4.1-bin-hadoop3.tgz’\n",
            "\n",
            "spark-3.4.1-bin-had 100%[===================>] 370.35M   210MB/s    in 1.8s    \n",
            "\n",
            "2023-11-26 05:53:53 (210 MB/s) - ‘spark-3.4.1-bin-hadoop3.tgz’ saved [388341449/388341449]\n",
            "\n"
          ]
        }
      ],
      "source": [
        "!pwd #clear prompt before exceute\n",
        "!wget https://dlcdn.apache.org/spark/spark-3.4.1/spark-3.4.1-bin-hadoop3.tgz"
      ]
    },
    {
      "cell_type": "code",
      "execution_count": null,
      "metadata": {
        "id": "XuNwi_ZHjoms"
      },
      "outputs": [],
      "source": [
        "%%capture\n",
        "!tar xvzf spark-3.4.1-bin-hadoop3.tgz"
      ]
    },
    {
      "cell_type": "code",
      "execution_count": null,
      "metadata": {
        "id": "k03l29mRjtEo"
      },
      "outputs": [],
      "source": [
        "%%capture\n",
        "!pip install findspark"
      ]
    },
    {
      "cell_type": "code",
      "execution_count": null,
      "metadata": {
        "colab": {
          "base_uri": "https://localhost:8080/"
        },
        "id": "BFXCZpR9jwkn",
        "outputId": "af44e1aa-6c6d-4634-de80-d7a6ccea758f"
      },
      "outputs": [
        {
          "output_type": "execute_result",
          "data": {
            "text/plain": [
              "<function findspark.init(spark_home=None, python_path=None, edit_rc=False, edit_profile=False)>"
            ]
          },
          "metadata": {},
          "execution_count": 5
        }
      ],
      "source": [
        "import os\n",
        "os.environ['Spark_Home'] = \"/content/spark-3.4.1-bin-hadoop3\"\n",
        "\n",
        "import findspark\n",
        "findspark.init"
      ]
    },
    {
      "cell_type": "code",
      "execution_count": null,
      "metadata": {
        "colab": {
          "base_uri": "https://localhost:8080/"
        },
        "id": "xjtORh2-jy8M",
        "outputId": "6f8b7d62-1a0a-4aa0-f283-cb94ed26e07b"
      },
      "outputs": [
        {
          "output_type": "stream",
          "name": "stdout",
          "text": [
            "Collecting pyspark\n",
            "  Downloading pyspark-3.5.0.tar.gz (316.9 MB)\n",
            "\u001b[2K     \u001b[90m━━━━━━━━━━━━━━━━━━━━━━━━━━━━━━━━━━━━━━━━\u001b[0m \u001b[32m316.9/316.9 MB\u001b[0m \u001b[31m3.2 MB/s\u001b[0m eta \u001b[36m0:00:00\u001b[0m\n",
            "\u001b[?25h  Preparing metadata (setup.py) ... \u001b[?25l\u001b[?25hdone\n",
            "Requirement already satisfied: py4j==0.10.9.7 in /usr/local/lib/python3.10/dist-packages (from pyspark) (0.10.9.7)\n",
            "Building wheels for collected packages: pyspark\n",
            "  Building wheel for pyspark (setup.py) ... \u001b[?25l\u001b[?25hdone\n",
            "  Created wheel for pyspark: filename=pyspark-3.5.0-py2.py3-none-any.whl size=317425344 sha256=b490a52c9271462e0003897c037100d7f18d0e22cef3d4186fda1120180409a4\n",
            "  Stored in directory: /root/.cache/pip/wheels/41/4e/10/c2cf2467f71c678cfc8a6b9ac9241e5e44a01940da8fbb17fc\n",
            "Successfully built pyspark\n",
            "Installing collected packages: pyspark\n",
            "Successfully installed pyspark-3.5.0\n"
          ]
        }
      ],
      "source": [
        "!pip install pyspark"
      ]
    },
    {
      "cell_type": "code",
      "execution_count": null,
      "metadata": {
        "id": "SVw19UF5j2jZ"
      },
      "outputs": [],
      "source": [
        "from pyspark.sql import SparkSession\n",
        "spark = SparkSession.builder.appName(\"PySpark 3.4 on google.colab\").getOrCreate()"
      ]
    },
    {
      "cell_type": "code",
      "execution_count": null,
      "metadata": {
        "colab": {
          "base_uri": "https://localhost:8080/"
        },
        "id": "axlFjWPxkkxW",
        "outputId": "3d70b674-973a-4a52-a8c7-42eed7019cce"
      },
      "outputs": [
        {
          "output_type": "stream",
          "name": "stdout",
          "text": [
            "+------+---+------+------+---------+----------+-----------+---------+----------+-----+-----+-----+---------+---------+---------+------------+----------+-------------+----------------+--------+--------+---------+----------------+------+\n",
            "|   sex|age|height|weight|waistline|sight_left|sight_right|hear_left|hear_right|  SBP|  DBP| BLDS|tot_chole|HDL_chole|LDL_chole|triglyceride|hemoglobin|urine_protein|serum_creatinine|SGOT_AST|SGOT_ALT|gamma_GTP|SMK_stat_type_cd|DRK_YN|\n",
            "+------+---+------+------+---------+----------+-----------+---------+----------+-----+-----+-----+---------+---------+---------+------------+----------+-------------+----------------+--------+--------+---------+----------------+------+\n",
            "|  Male| 35|   170|    75|     90.0|       1.0|        1.0|      1.0|       1.0|120.0| 80.0| 99.0|    193.0|     48.0|    126.0|        92.0|      17.1|          1.0|             1.0|    21.0|    35.0|     40.0|             1.0|     Y|\n",
            "|  Male| 30|   180|    80|     89.0|       0.9|        1.2|      1.0|       1.0|130.0| 82.0|106.0|    228.0|     55.0|    148.0|       121.0|      15.8|          1.0|             0.9|    20.0|    36.0|     27.0|             3.0|     N|\n",
            "|  Male| 40|   165|    75|     91.0|       1.2|        1.5|      1.0|       1.0|120.0| 70.0| 98.0|    136.0|     41.0|     74.0|       104.0|      15.8|          1.0|             0.9|    47.0|    32.0|     68.0|             1.0|     N|\n",
            "|  Male| 50|   175|    80|     91.0|       1.5|        1.2|      1.0|       1.0|145.0| 87.0| 95.0|    201.0|     76.0|    104.0|       106.0|      17.6|          1.0|             1.1|    29.0|    34.0|     18.0|             1.0|     N|\n",
            "|  Male| 50|   165|    60|     80.0|       1.0|        1.2|      1.0|       1.0|138.0| 82.0|101.0|    199.0|     61.0|    117.0|       104.0|      13.8|          1.0|             0.8|    19.0|    12.0|     25.0|             1.0|     N|\n",
            "|  Male| 50|   165|    55|     75.0|       1.2|        1.5|      1.0|       1.0|142.0| 92.0| 99.0|    218.0|     77.0|     95.0|       232.0|      13.8|          3.0|             0.8|    29.0|    40.0|     37.0|             3.0|     Y|\n",
            "|Female| 45|   150|    55|     69.0|       0.5|        0.4|      1.0|       1.0|101.0| 58.0| 89.0|    196.0|     66.0|    115.0|        75.0|      12.3|          1.0|             0.8|    19.0|    12.0|     12.0|             1.0|     N|\n",
            "|  Male| 35|   175|    65|     84.2|       1.2|        1.0|      1.0|       1.0|132.0| 80.0| 94.0|    185.0|     58.0|    107.0|       101.0|      14.4|          1.0|             0.8|    18.0|    18.0|     35.0|             3.0|     Y|\n",
            "|  Male| 55|   170|    75|     84.0|       1.2|        0.9|      1.0|       1.0|145.0| 85.0|104.0|    217.0|     56.0|    141.0|       100.0|      15.1|          1.0|             0.8|    32.0|    23.0|     26.0|             1.0|     Y|\n",
            "|  Male| 40|   175|    75|     82.0|       1.5|        1.5|      1.0|       1.0|132.0|105.0|100.0|    195.0|     60.0|    118.0|        83.0|      13.9|          1.0|             0.9|    21.0|    38.0|     16.0|             2.0|     Y|\n",
            "|  Male| 45|   155|    55|     79.2|       1.0|        1.0|      1.0|       1.0|118.0| 70.0| 90.0|    183.0|     42.0|    130.0|        55.0|      12.9|          1.0|             0.8|    19.0|    14.0|     19.0|             1.0|     N|\n",
            "|  Male| 65|   155|    75|     98.0|       1.2|        9.9|      1.0|       1.0|109.0| 69.0|137.0|    115.0|     31.0|     57.0|       137.0|      16.5|          1.0|             1.3|    48.0|    51.0|     42.0|             2.0|     N|\n",
            "|Female| 55|   150|    55|     72.3|       1.2|        0.9|      1.0|       1.0|130.0| 80.0|106.0|    183.0|     51.0|     89.0|       214.0|      13.1|          1.0|             0.8|    20.0|    20.0|     31.0|             1.0|     N|\n",
            "|  Male| 30|   175|    75|     88.0|       1.2|        1.2|      1.0|       1.0|118.0| 72.0| 82.0|    200.0|     55.0|    129.0|        77.0|      15.7|          1.0|             0.9|    13.0|    16.0|     19.0|             1.0|     Y|\n",
            "|Female| 30|   160|    50|     76.0|       0.9|        1.0|      1.0|       1.0|129.0| 77.0| 79.0|    205.0|     53.0|    108.0|       219.0|      14.5|          1.0|             0.6|    21.0|    24.0|     58.0|             1.0|     N|\n",
            "|  Male| 40|   170|    65|     80.0|       1.0|        1.0|      1.0|       1.0|113.0| 72.0|104.0|    113.0|     44.0|     62.0|        35.0|      16.0|          2.0|             0.9|    15.0|    10.0|     12.0|             1.0|     N|\n",
            "|Female| 25|   160|    65|     73.0|       1.2|        0.9|      1.0|       1.0|126.0| 78.0| 96.0|    148.0|     54.0|     82.0|        60.0|      12.3|          1.0|             0.5|    12.0|     7.0|      9.0|             1.0|     Y|\n",
            "|  Male| 25|   170|    65|     78.0|       1.2|        1.2|      1.0|       1.0|119.0| 67.0|100.0|    147.0|     51.0|     85.0|        54.0|      14.8|          1.0|             0.9|    33.0|    17.0|     13.0|             1.0|     Y|\n",
            "|  Male| 50|   170|    85|     99.0|       0.7|        0.8|      1.0|       1.0|121.0| 74.0| 99.0|    180.0|     43.0|    103.0|       169.0|      14.4|          1.0|             1.2|    41.0|    51.0|     60.0|             1.0|     Y|\n",
            "|  Male| 60|   165|    60|     85.0|       0.3|        0.7|      1.0|       1.0|120.0| 85.0|105.0|    197.0|     42.0|    111.0|       222.0|      15.2|          1.0|             1.0|    19.0|    20.0|     48.0|             3.0|     Y|\n",
            "+------+---+------+------+---------+----------+-----------+---------+----------+-----+-----+-----+---------+---------+---------+------------+----------+-------------+----------------+--------+--------+---------+----------------+------+\n",
            "only showing top 20 rows\n",
            "\n"
          ]
        }
      ],
      "source": [
        "url = \"/content/drive/MyDrive/smoking_driking_dataset_Ver01.csv\"\n",
        "df = spark.read.csv(url,header=True,inferSchema=True)\n",
        "df.show()"
      ]
    },
    {
      "cell_type": "markdown",
      "metadata": {
        "id": "r8Y3UYZKOvPb"
      },
      "source": [
        "#Data Preprocessing"
      ]
    },
    {
      "cell_type": "code",
      "execution_count": null,
      "metadata": {
        "colab": {
          "base_uri": "https://localhost:8080/"
        },
        "id": "dB6vGOTzHFWK",
        "outputId": "ed2f4eff-57aa-4d13-ece5-efda1e9ac039"
      },
      "outputs": [
        {
          "output_type": "stream",
          "name": "stdout",
          "text": [
            "+---+---+------+------+---------+----------+-----------+---------+----------+---+---+----+---------+---------+---------+------------+----------+-------------+----------------+--------+--------+---------+----------------+------+\n",
            "|sex|age|height|weight|waistline|sight_left|sight_right|hear_left|hear_right|SBP|DBP|BLDS|tot_chole|HDL_chole|LDL_chole|triglyceride|hemoglobin|urine_protein|serum_creatinine|SGOT_AST|SGOT_ALT|gamma_GTP|SMK_stat_type_cd|DRK_YN|\n",
            "+---+---+------+------+---------+----------+-----------+---------+----------+---+---+----+---------+---------+---------+------------+----------+-------------+----------------+--------+--------+---------+----------------+------+\n",
            "|  0|  0|     0|     0|        0|         0|          0|        0|         0|  0|  0|   0|        0|        0|        0|           0|         0|            0|               0|       0|       0|        0|               0|     0|\n",
            "+---+---+------+------+---------+----------+-----------+---------+----------+---+---+----+---------+---------+---------+------------+----------+-------------+----------------+--------+--------+---------+----------------+------+\n",
            "\n",
            "None\n"
          ]
        }
      ],
      "source": [
        "from pyspark.sql.functions import *\n",
        "print(df.select([count(when(isnan(c) | col(c).isNull(), c)).alias(c) for c in df.columns]).show())"
      ]
    },
    {
      "cell_type": "code",
      "execution_count": null,
      "metadata": {
        "colab": {
          "base_uri": "https://localhost:8080/"
        },
        "id": "W4BGexadmCMx",
        "outputId": "87ad021c-6f4e-4563-f3a6-3bb3a3a9b6be"
      },
      "outputs": [
        {
          "output_type": "stream",
          "name": "stdout",
          "text": [
            "root\n",
            " |-- sex: string (nullable = true)\n",
            " |-- age: integer (nullable = true)\n",
            " |-- height: integer (nullable = true)\n",
            " |-- weight: integer (nullable = true)\n",
            " |-- waistline: double (nullable = true)\n",
            " |-- sight_left: double (nullable = true)\n",
            " |-- sight_right: double (nullable = true)\n",
            " |-- hear_left: double (nullable = true)\n",
            " |-- hear_right: double (nullable = true)\n",
            " |-- SBP: double (nullable = true)\n",
            " |-- DBP: double (nullable = true)\n",
            " |-- BLDS: double (nullable = true)\n",
            " |-- tot_chole: double (nullable = true)\n",
            " |-- HDL_chole: double (nullable = true)\n",
            " |-- LDL_chole: double (nullable = true)\n",
            " |-- triglyceride: double (nullable = true)\n",
            " |-- hemoglobin: double (nullable = true)\n",
            " |-- urine_protein: double (nullable = true)\n",
            " |-- serum_creatinine: double (nullable = true)\n",
            " |-- SGOT_AST: double (nullable = true)\n",
            " |-- SGOT_ALT: double (nullable = true)\n",
            " |-- gamma_GTP: double (nullable = true)\n",
            " |-- SMK_stat_type_cd: double (nullable = true)\n",
            " |-- DRK_YN: string (nullable = true)\n",
            "\n"
          ]
        }
      ],
      "source": [
        "df.printSchema()"
      ]
    },
    {
      "cell_type": "code",
      "execution_count": null,
      "metadata": {
        "colab": {
          "base_uri": "https://localhost:8080/"
        },
        "id": "0q7yo-wayD-M",
        "outputId": "e875dfb4-567a-4a4e-b5f5-1af88ee3c9c8"
      },
      "outputs": [
        {
          "output_type": "stream",
          "name": "stdout",
          "text": [
            "number of rows:  991346\n"
          ]
        }
      ],
      "source": [
        "print(\"number of rows: \",df.count())"
      ]
    },
    {
      "cell_type": "code",
      "execution_count": null,
      "metadata": {
        "id": "bIPCy7YFqAYT"
      },
      "outputs": [],
      "source": [
        "from pyspark.sql.functions import col\n",
        "\n",
        "def countNulls(column):\n",
        "  d = {}\n",
        "  for co in column:\n",
        "   d[co] = df.filter(col(co).isNull()).count()\n",
        "\n",
        "  return d"
      ]
    },
    {
      "cell_type": "code",
      "execution_count": null,
      "metadata": {
        "colab": {
          "base_uri": "https://localhost:8080/"
        },
        "id": "MnhTLg33sMG3",
        "outputId": "00718d57-298f-4b42-b344-2844f32e8e4c"
      },
      "outputs": [
        {
          "output_type": "execute_result",
          "data": {
            "text/plain": [
              "{'sex': 0,\n",
              " 'age': 0,\n",
              " 'height': 0,\n",
              " 'weight': 0,\n",
              " 'waistline': 0,\n",
              " 'sight_left': 0,\n",
              " 'sight_right': 0,\n",
              " 'hear_left': 0,\n",
              " 'hear_right': 0,\n",
              " 'SBP': 0,\n",
              " 'DBP': 0,\n",
              " 'BLDS': 0,\n",
              " 'tot_chole': 0,\n",
              " 'HDL_chole': 0,\n",
              " 'LDL_chole': 0,\n",
              " 'triglyceride': 0,\n",
              " 'hemoglobin': 0,\n",
              " 'urine_protein': 0,\n",
              " 'serum_creatinine': 0,\n",
              " 'SGOT_AST': 0,\n",
              " 'SGOT_ALT': 0,\n",
              " 'gamma_GTP': 0,\n",
              " 'SMK_stat_type_cd': 0,\n",
              " 'DRK_YN': 0}"
            ]
          },
          "metadata": {},
          "execution_count": 13
        }
      ],
      "source": [
        "allNull = countNulls(df.columns)\n",
        "allNull"
      ]
    },
    {
      "cell_type": "code",
      "execution_count": null,
      "metadata": {
        "id": "yNfq0eYHu_Ca"
      },
      "outputs": [],
      "source": [
        "df = df.na.drop()"
      ]
    },
    {
      "cell_type": "code",
      "execution_count": null,
      "metadata": {
        "colab": {
          "base_uri": "https://localhost:8080/"
        },
        "id": "FgAZ2ORDz6zt",
        "outputId": "32ec8991-bdeb-409c-bb51-589263eb2a26"
      },
      "outputs": [
        {
          "output_type": "stream",
          "name": "stdout",
          "text": [
            "number of rows:  991346\n"
          ]
        }
      ],
      "source": [
        "print(\"number of rows: \",df.count())"
      ]
    },
    {
      "cell_type": "code",
      "execution_count": null,
      "metadata": {
        "colab": {
          "base_uri": "https://localhost:8080/"
        },
        "id": "EWlmce5DKEkN",
        "outputId": "330cf3c8-29e3-495a-c861-59ed03660159"
      },
      "outputs": [
        {
          "output_type": "stream",
          "name": "stdout",
          "text": [
            "+----------------+-----------------------+\n",
            "|SMK_stat_type_cd|count(SMK_stat_type_cd)|\n",
            "+----------------+-----------------------+\n",
            "|             1.0|                 602441|\n",
            "|             3.0|                 213954|\n",
            "|             2.0|                 174951|\n",
            "+----------------+-----------------------+\n",
            "\n"
          ]
        }
      ],
      "source": [
        "from pyspark.sql.functions import col, count\n",
        "df.groupBy(\"SMK_stat_type_cd\").agg(count('SMK_stat_type_cd')).show()"
      ]
    },
    {
      "cell_type": "code",
      "execution_count": null,
      "metadata": {
        "id": "lTAoDaokH8Yl"
      },
      "outputs": [],
      "source": [
        "from pyspark.sql.functions import col\n",
        "\n",
        "casting = ['age','height','weight']\n",
        "for cols in df.columns:\n",
        "  if cols in casting:\n",
        "    #print(cols,col(cols))\n",
        "    df = df.withColumn(cols, df[cols].cast(\"Double\"))"
      ]
    },
    {
      "cell_type": "code",
      "execution_count": null,
      "metadata": {
        "colab": {
          "base_uri": "https://localhost:8080/"
        },
        "id": "UbgtnKzsJcvF",
        "outputId": "59d05c19-e459-40d4-eb85-2d195072e718"
      },
      "outputs": [
        {
          "output_type": "stream",
          "name": "stdout",
          "text": [
            "root\n",
            " |-- sex: string (nullable = true)\n",
            " |-- age: double (nullable = true)\n",
            " |-- height: double (nullable = true)\n",
            " |-- weight: double (nullable = true)\n",
            " |-- waistline: double (nullable = true)\n",
            " |-- sight_left: double (nullable = true)\n",
            " |-- sight_right: double (nullable = true)\n",
            " |-- hear_left: double (nullable = true)\n",
            " |-- hear_right: double (nullable = true)\n",
            " |-- SBP: double (nullable = true)\n",
            " |-- DBP: double (nullable = true)\n",
            " |-- BLDS: double (nullable = true)\n",
            " |-- tot_chole: double (nullable = true)\n",
            " |-- HDL_chole: double (nullable = true)\n",
            " |-- LDL_chole: double (nullable = true)\n",
            " |-- triglyceride: double (nullable = true)\n",
            " |-- hemoglobin: double (nullable = true)\n",
            " |-- urine_protein: double (nullable = true)\n",
            " |-- serum_creatinine: double (nullable = true)\n",
            " |-- SGOT_AST: double (nullable = true)\n",
            " |-- SGOT_ALT: double (nullable = true)\n",
            " |-- gamma_GTP: double (nullable = true)\n",
            " |-- SMK_stat_type_cd: double (nullable = true)\n",
            "\n"
          ]
        }
      ],
      "source": [
        "df.drop(\"DRK_YN\").printSchema()"
      ]
    },
    {
      "cell_type": "markdown",
      "metadata": {
        "id": "wdwfTdtKkGzR"
      },
      "source": [
        "#Z-score Outlier removal"
      ]
    },
    {
      "cell_type": "code",
      "execution_count": null,
      "metadata": {
        "colab": {
          "base_uri": "https://localhost:8080/"
        },
        "id": "vVSGee3fFTvK",
        "outputId": "2b4b4550-513f-4ef8-ea4b-20f29207e8b9"
      },
      "outputs": [
        {
          "output_type": "stream",
          "name": "stdout",
          "text": [
            "+------+----+------+------+---------+----------+-----------+---------+----------+-----+----+-----+---------+---------+---------+------------+----------+-------------+----------------+--------+--------+---------+----------------+------+\n",
            "|   sex| age|height|weight|waistline|sight_left|sight_right|hear_left|hear_right|  SBP| DBP| BLDS|tot_chole|HDL_chole|LDL_chole|triglyceride|hemoglobin|urine_protein|serum_creatinine|SGOT_AST|SGOT_ALT|gamma_GTP|SMK_stat_type_cd|DRK_YN|\n",
            "+------+----+------+------+---------+----------+-----------+---------+----------+-----+----+-----+---------+---------+---------+------------+----------+-------------+----------------+--------+--------+---------+----------------+------+\n",
            "|  Male|35.0| 170.0|  75.0|     90.0|       1.0|        1.0|      1.0|       1.0|120.0|80.0| 99.0|    193.0|     48.0|    126.0|        92.0|      17.1|          1.0|             1.0|    21.0|    35.0|     40.0|             1.0|     Y|\n",
            "|  Male|30.0| 180.0|  80.0|     89.0|       0.9|        1.2|      1.0|       1.0|130.0|82.0|106.0|    228.0|     55.0|    148.0|       121.0|      15.8|          1.0|             0.9|    20.0|    36.0|     27.0|             3.0|     N|\n",
            "|  Male|40.0| 165.0|  75.0|     91.0|       1.2|        1.5|      1.0|       1.0|120.0|70.0| 98.0|    136.0|     41.0|     74.0|       104.0|      15.8|          1.0|             0.9|    47.0|    32.0|     68.0|             1.0|     N|\n",
            "|  Male|50.0| 175.0|  80.0|     91.0|       1.5|        1.2|      1.0|       1.0|145.0|87.0| 95.0|    201.0|     76.0|    104.0|       106.0|      17.6|          1.0|             1.1|    29.0|    34.0|     18.0|             1.0|     N|\n",
            "|  Male|50.0| 165.0|  60.0|     80.0|       1.0|        1.2|      1.0|       1.0|138.0|82.0|101.0|    199.0|     61.0|    117.0|       104.0|      13.8|          1.0|             0.8|    19.0|    12.0|     25.0|             1.0|     N|\n",
            "|  Male|50.0| 165.0|  55.0|     75.0|       1.2|        1.5|      1.0|       1.0|142.0|92.0| 99.0|    218.0|     77.0|     95.0|       232.0|      13.8|          3.0|             0.8|    29.0|    40.0|     37.0|             3.0|     Y|\n",
            "|Female|45.0| 150.0|  55.0|     69.0|       0.5|        0.4|      1.0|       1.0|101.0|58.0| 89.0|    196.0|     66.0|    115.0|        75.0|      12.3|          1.0|             0.8|    19.0|    12.0|     12.0|             1.0|     N|\n",
            "|  Male|35.0| 175.0|  65.0|     84.2|       1.2|        1.0|      1.0|       1.0|132.0|80.0| 94.0|    185.0|     58.0|    107.0|       101.0|      14.4|          1.0|             0.8|    18.0|    18.0|     35.0|             3.0|     Y|\n",
            "|  Male|55.0| 170.0|  75.0|     84.0|       1.2|        0.9|      1.0|       1.0|145.0|85.0|104.0|    217.0|     56.0|    141.0|       100.0|      15.1|          1.0|             0.8|    32.0|    23.0|     26.0|             1.0|     Y|\n",
            "|  Male|45.0| 155.0|  55.0|     79.2|       1.0|        1.0|      1.0|       1.0|118.0|70.0| 90.0|    183.0|     42.0|    130.0|        55.0|      12.9|          1.0|             0.8|    19.0|    14.0|     19.0|             1.0|     N|\n",
            "|Female|55.0| 150.0|  55.0|     72.3|       1.2|        0.9|      1.0|       1.0|130.0|80.0|106.0|    183.0|     51.0|     89.0|       214.0|      13.1|          1.0|             0.8|    20.0|    20.0|     31.0|             1.0|     N|\n",
            "|  Male|30.0| 175.0|  75.0|     88.0|       1.2|        1.2|      1.0|       1.0|118.0|72.0| 82.0|    200.0|     55.0|    129.0|        77.0|      15.7|          1.0|             0.9|    13.0|    16.0|     19.0|             1.0|     Y|\n",
            "|Female|30.0| 160.0|  50.0|     76.0|       0.9|        1.0|      1.0|       1.0|129.0|77.0| 79.0|    205.0|     53.0|    108.0|       219.0|      14.5|          1.0|             0.6|    21.0|    24.0|     58.0|             1.0|     N|\n",
            "|  Male|40.0| 170.0|  65.0|     80.0|       1.0|        1.0|      1.0|       1.0|113.0|72.0|104.0|    113.0|     44.0|     62.0|        35.0|      16.0|          2.0|             0.9|    15.0|    10.0|     12.0|             1.0|     N|\n",
            "|Female|25.0| 160.0|  65.0|     73.0|       1.2|        0.9|      1.0|       1.0|126.0|78.0| 96.0|    148.0|     54.0|     82.0|        60.0|      12.3|          1.0|             0.5|    12.0|     7.0|      9.0|             1.0|     Y|\n",
            "|  Male|25.0| 170.0|  65.0|     78.0|       1.2|        1.2|      1.0|       1.0|119.0|67.0|100.0|    147.0|     51.0|     85.0|        54.0|      14.8|          1.0|             0.9|    33.0|    17.0|     13.0|             1.0|     Y|\n",
            "|  Male|50.0| 170.0|  85.0|     99.0|       0.7|        0.8|      1.0|       1.0|121.0|74.0| 99.0|    180.0|     43.0|    103.0|       169.0|      14.4|          1.0|             1.2|    41.0|    51.0|     60.0|             1.0|     Y|\n",
            "|  Male|60.0| 165.0|  60.0|     85.0|       0.3|        0.7|      1.0|       1.0|120.0|85.0|105.0|    197.0|     42.0|    111.0|       222.0|      15.2|          1.0|             1.0|    19.0|    20.0|     48.0|             3.0|     Y|\n",
            "|Female|35.0| 170.0|  50.0|     67.0|       1.0|        0.8|      1.0|       1.0|111.0|65.0| 88.0|    174.0|     66.0|     98.0|        46.0|      12.1|          1.0|             0.9|    19.0|    13.0|     18.0|             1.0|     Y|\n",
            "|  Male|25.0| 175.0|  65.0|     82.0|       1.5|        1.5|      1.0|       1.0|130.0|76.0| 95.0|    207.0|     62.0|    134.0|        57.0|      16.7|          1.0|             1.2|    28.0|    30.0|     32.0|             3.0|     Y|\n",
            "+------+----+------+------+---------+----------+-----------+---------+----------+-----+----+-----+---------+---------+---------+------------+----------+-------------+----------------+--------+--------+---------+----------------+------+\n",
            "only showing top 20 rows\n",
            "\n"
          ]
        }
      ],
      "source": [
        "from pyspark.sql.functions import countDistinct, avg, stddev\n",
        "column_subset = ['age','weight','height','waistline','sight_left','sight_right','SBP','DBP','BLDS','tot_chole','HDL_chole','LDL_chole','triglyceride','hemoglobin','serum_creatinine','SGOT_AST','SGOT_ALT','gamma_GTP']\n",
        "for cols in column_subset:\n",
        "          mean = df.agg({cols:'mean'}).collect()[0][0]\n",
        "          stddev = df.agg({cols:'stddev'}).collect()[0][0]\n",
        "          upper_limit = mean + (3*stddev)\n",
        "          lower_limit = mean - (3*stddev)\n",
        "          df = df.filter((df[cols]>lower_limit) & (df[cols]<upper_limit))\n",
        "df.show()"
      ]
    },
    {
      "cell_type": "code",
      "execution_count": null,
      "metadata": {
        "colab": {
          "base_uri": "https://localhost:8080/"
        },
        "id": "ypZyqYgTu32F",
        "outputId": "b92583f1-15ba-4a4a-e712-64792069ab5e"
      },
      "outputs": [
        {
          "output_type": "stream",
          "name": "stdout",
          "text": [
            "number of rows:  879051\n"
          ]
        }
      ],
      "source": [
        "print(\"number of rows: \",df.count())"
      ]
    },
    {
      "cell_type": "code",
      "execution_count": null,
      "metadata": {
        "colab": {
          "base_uri": "https://localhost:8080/"
        },
        "id": "slVdGV9erY1E",
        "outputId": "70a6f90a-f157-49da-e488-958b2fe4e829"
      },
      "outputs": [
        {
          "output_type": "stream",
          "name": "stdout",
          "text": [
            "+------+----+------+------+---------+----------+-----------+---------+----------+-----+----+-----+---------+---------+---------+------------+----------+-------------+----------------+--------+--------+---------+----------------+------+---------+\n",
            "|sex   |age |height|weight|waistline|sight_left|sight_right|hear_left|hear_right|SBP  |DBP |BLDS |tot_chole|HDL_chole|LDL_chole|triglyceride|hemoglobin|urine_protein|serum_creatinine|SGOT_AST|SGOT_ALT|gamma_GTP|SMK_stat_type_cd|DRK_YN|sex_index|\n",
            "+------+----+------+------+---------+----------+-----------+---------+----------+-----+----+-----+---------+---------+---------+------------+----------+-------------+----------------+--------+--------+---------+----------------+------+---------+\n",
            "|Male  |35.0|170.0 |75.0  |90.0     |1.0       |1.0        |1.0      |1.0       |120.0|80.0|99.0 |193.0    |48.0     |126.0    |92.0        |17.1      |1.0          |1.0             |21.0    |35.0    |40.0     |1.0             |Y     |0.0      |\n",
            "|Male  |30.0|180.0 |80.0  |89.0     |0.9       |1.2        |1.0      |1.0       |130.0|82.0|106.0|228.0    |55.0     |148.0    |121.0       |15.8      |1.0          |0.9             |20.0    |36.0    |27.0     |3.0             |N     |0.0      |\n",
            "|Male  |40.0|165.0 |75.0  |91.0     |1.2       |1.5        |1.0      |1.0       |120.0|70.0|98.0 |136.0    |41.0     |74.0     |104.0       |15.8      |1.0          |0.9             |47.0    |32.0    |68.0     |1.0             |N     |0.0      |\n",
            "|Male  |50.0|175.0 |80.0  |91.0     |1.5       |1.2        |1.0      |1.0       |145.0|87.0|95.0 |201.0    |76.0     |104.0    |106.0       |17.6      |1.0          |1.1             |29.0    |34.0    |18.0     |1.0             |N     |0.0      |\n",
            "|Male  |50.0|165.0 |60.0  |80.0     |1.0       |1.2        |1.0      |1.0       |138.0|82.0|101.0|199.0    |61.0     |117.0    |104.0       |13.8      |1.0          |0.8             |19.0    |12.0    |25.0     |1.0             |N     |0.0      |\n",
            "|Male  |50.0|165.0 |55.0  |75.0     |1.2       |1.5        |1.0      |1.0       |142.0|92.0|99.0 |218.0    |77.0     |95.0     |232.0       |13.8      |3.0          |0.8             |29.0    |40.0    |37.0     |3.0             |Y     |0.0      |\n",
            "|Female|45.0|150.0 |55.0  |69.0     |0.5       |0.4        |1.0      |1.0       |101.0|58.0|89.0 |196.0    |66.0     |115.0    |75.0        |12.3      |1.0          |0.8             |19.0    |12.0    |12.0     |1.0             |N     |1.0      |\n",
            "|Male  |35.0|175.0 |65.0  |84.2     |1.2       |1.0        |1.0      |1.0       |132.0|80.0|94.0 |185.0    |58.0     |107.0    |101.0       |14.4      |1.0          |0.8             |18.0    |18.0    |35.0     |3.0             |Y     |0.0      |\n",
            "|Male  |55.0|170.0 |75.0  |84.0     |1.2       |0.9        |1.0      |1.0       |145.0|85.0|104.0|217.0    |56.0     |141.0    |100.0       |15.1      |1.0          |0.8             |32.0    |23.0    |26.0     |1.0             |Y     |0.0      |\n",
            "|Male  |45.0|155.0 |55.0  |79.2     |1.0       |1.0        |1.0      |1.0       |118.0|70.0|90.0 |183.0    |42.0     |130.0    |55.0        |12.9      |1.0          |0.8             |19.0    |14.0    |19.0     |1.0             |N     |0.0      |\n",
            "+------+----+------+------+---------+----------+-----------+---------+----------+-----+----+-----+---------+---------+---------+------------+----------+-------------+----------------+--------+--------+---------+----------------+------+---------+\n",
            "only showing top 10 rows\n",
            "\n"
          ]
        }
      ],
      "source": [
        "from pyspark.ml.feature import StringIndexer\n",
        "indexer = StringIndexer(inputCol=\"sex\", outputCol=\"sex_index\")\n",
        "indexd_data=indexer.fit(df).transform(df)\n",
        "indexd_data.show(10, truncate=False)"
      ]
    },
    {
      "cell_type": "code",
      "execution_count": null,
      "metadata": {
        "colab": {
          "base_uri": "https://localhost:8080/"
        },
        "id": "ENxki_mrs-aH",
        "outputId": "4aad4b4f-44c5-4bc4-89f9-0aa8229d9e83"
      },
      "outputs": [
        {
          "name": "stdout",
          "output_type": "stream",
          "text": [
            "root\n",
            " |-- age: double (nullable = true)\n",
            " |-- height: double (nullable = true)\n",
            " |-- weight: double (nullable = true)\n",
            " |-- waistline: double (nullable = true)\n",
            " |-- sight_left: double (nullable = true)\n",
            " |-- sight_right: double (nullable = true)\n",
            " |-- hear_left: double (nullable = true)\n",
            " |-- hear_right: double (nullable = true)\n",
            " |-- SBP: double (nullable = true)\n",
            " |-- DBP: double (nullable = true)\n",
            " |-- BLDS: double (nullable = true)\n",
            " |-- tot_chole: double (nullable = true)\n",
            " |-- HDL_chole: double (nullable = true)\n",
            " |-- LDL_chole: double (nullable = true)\n",
            " |-- triglyceride: double (nullable = true)\n",
            " |-- hemoglobin: double (nullable = true)\n",
            " |-- urine_protein: double (nullable = true)\n",
            " |-- serum_creatinine: double (nullable = true)\n",
            " |-- SGOT_AST: double (nullable = true)\n",
            " |-- SGOT_ALT: double (nullable = true)\n",
            " |-- gamma_GTP: double (nullable = true)\n",
            " |-- SMK_stat_type_cd: double (nullable = true)\n",
            " |-- sex_index: double (nullable = false)\n",
            "\n"
          ]
        }
      ],
      "source": [
        "indexd_data = indexd_data.drop(\"sex\",\"DRK_YN\")\n",
        "indexd_data.printSchema()"
      ]
    },
    {
      "cell_type": "code",
      "execution_count": null,
      "metadata": {
        "id": "98fm9zLzbTm_"
      },
      "outputs": [],
      "source": [
        "from pyspark.ml.feature import VectorAssembler"
      ]
    },
    {
      "cell_type": "code",
      "execution_count": null,
      "metadata": {
        "colab": {
          "base_uri": "https://localhost:8080/"
        },
        "id": "6ackmZPvbdhW",
        "outputId": "05c9fc0e-cc5f-43ce-8539-2d260fdfd0c5"
      },
      "outputs": [
        {
          "name": "stdout",
          "output_type": "stream",
          "text": [
            "+----+------+------+---------+----------+-----------+---------+----------+-----+----+-----+---------+---------+---------+------------+----------+-------------+----------------+--------+--------+---------+----------------+---------+------------------------------------------------------------------------------------------------------------------+\n",
            "|age |height|weight|waistline|sight_left|sight_right|hear_left|hear_right|SBP  |DBP |BLDS |tot_chole|HDL_chole|LDL_chole|triglyceride|hemoglobin|urine_protein|serum_creatinine|SGOT_AST|SGOT_ALT|gamma_GTP|SMK_stat_type_cd|sex_index|features                                                                                                          |\n",
            "+----+------+------+---------+----------+-----------+---------+----------+-----+----+-----+---------+---------+---------+------------+----------+-------------+----------------+--------+--------+---------+----------------+---------+------------------------------------------------------------------------------------------------------------------+\n",
            "|35.0|170.0 |75.0  |90.0     |1.0       |1.0        |1.0      |1.0       |120.0|80.0|99.0 |193.0    |48.0     |126.0    |92.0        |17.1      |1.0          |1.0             |21.0    |35.0    |40.0     |1.0             |0.0      |[35.0,170.0,75.0,90.0,1.0,1.0,1.0,1.0,120.0,80.0,99.0,193.0,48.0,126.0,92.0,17.1,1.0,1.0,21.0,35.0,40.0,1.0,0.0]  |\n",
            "|30.0|180.0 |80.0  |89.0     |0.9       |1.2        |1.0      |1.0       |130.0|82.0|106.0|228.0    |55.0     |148.0    |121.0       |15.8      |1.0          |0.9             |20.0    |36.0    |27.0     |3.0             |0.0      |[30.0,180.0,80.0,89.0,0.9,1.2,1.0,1.0,130.0,82.0,106.0,228.0,55.0,148.0,121.0,15.8,1.0,0.9,20.0,36.0,27.0,3.0,0.0]|\n",
            "|40.0|165.0 |75.0  |91.0     |1.2       |1.5        |1.0      |1.0       |120.0|70.0|98.0 |136.0    |41.0     |74.0     |104.0       |15.8      |1.0          |0.9             |47.0    |32.0    |68.0     |1.0             |0.0      |[40.0,165.0,75.0,91.0,1.2,1.5,1.0,1.0,120.0,70.0,98.0,136.0,41.0,74.0,104.0,15.8,1.0,0.9,47.0,32.0,68.0,1.0,0.0]  |\n",
            "|50.0|175.0 |80.0  |91.0     |1.5       |1.2        |1.0      |1.0       |145.0|87.0|95.0 |201.0    |76.0     |104.0    |106.0       |17.6      |1.0          |1.1             |29.0    |34.0    |18.0     |1.0             |0.0      |[50.0,175.0,80.0,91.0,1.5,1.2,1.0,1.0,145.0,87.0,95.0,201.0,76.0,104.0,106.0,17.6,1.0,1.1,29.0,34.0,18.0,1.0,0.0] |\n",
            "|50.0|165.0 |60.0  |80.0     |1.0       |1.2        |1.0      |1.0       |138.0|82.0|101.0|199.0    |61.0     |117.0    |104.0       |13.8      |1.0          |0.8             |19.0    |12.0    |25.0     |1.0             |0.0      |[50.0,165.0,60.0,80.0,1.0,1.2,1.0,1.0,138.0,82.0,101.0,199.0,61.0,117.0,104.0,13.8,1.0,0.8,19.0,12.0,25.0,1.0,0.0]|\n",
            "|50.0|165.0 |55.0  |75.0     |1.2       |1.5        |1.0      |1.0       |142.0|92.0|99.0 |218.0    |77.0     |95.0     |232.0       |13.8      |3.0          |0.8             |29.0    |40.0    |37.0     |3.0             |0.0      |[50.0,165.0,55.0,75.0,1.2,1.5,1.0,1.0,142.0,92.0,99.0,218.0,77.0,95.0,232.0,13.8,3.0,0.8,29.0,40.0,37.0,3.0,0.0]  |\n",
            "|45.0|150.0 |55.0  |69.0     |0.5       |0.4        |1.0      |1.0       |101.0|58.0|89.0 |196.0    |66.0     |115.0    |75.0        |12.3      |1.0          |0.8             |19.0    |12.0    |12.0     |1.0             |1.0      |[45.0,150.0,55.0,69.0,0.5,0.4,1.0,1.0,101.0,58.0,89.0,196.0,66.0,115.0,75.0,12.3,1.0,0.8,19.0,12.0,12.0,1.0,1.0]  |\n",
            "|35.0|175.0 |65.0  |84.2     |1.2       |1.0        |1.0      |1.0       |132.0|80.0|94.0 |185.0    |58.0     |107.0    |101.0       |14.4      |1.0          |0.8             |18.0    |18.0    |35.0     |3.0             |0.0      |[35.0,175.0,65.0,84.2,1.2,1.0,1.0,1.0,132.0,80.0,94.0,185.0,58.0,107.0,101.0,14.4,1.0,0.8,18.0,18.0,35.0,3.0,0.0] |\n",
            "|55.0|170.0 |75.0  |84.0     |1.2       |0.9        |1.0      |1.0       |145.0|85.0|104.0|217.0    |56.0     |141.0    |100.0       |15.1      |1.0          |0.8             |32.0    |23.0    |26.0     |1.0             |0.0      |[55.0,170.0,75.0,84.0,1.2,0.9,1.0,1.0,145.0,85.0,104.0,217.0,56.0,141.0,100.0,15.1,1.0,0.8,32.0,23.0,26.0,1.0,0.0]|\n",
            "|45.0|155.0 |55.0  |79.2     |1.0       |1.0        |1.0      |1.0       |118.0|70.0|90.0 |183.0    |42.0     |130.0    |55.0        |12.9      |1.0          |0.8             |19.0    |14.0    |19.0     |1.0             |0.0      |[45.0,155.0,55.0,79.2,1.0,1.0,1.0,1.0,118.0,70.0,90.0,183.0,42.0,130.0,55.0,12.9,1.0,0.8,19.0,14.0,19.0,1.0,0.0]  |\n",
            "+----+------+------+---------+----------+-----------+---------+----------+-----+----+-----+---------+---------+---------+------------+----------+-------------+----------------+--------+--------+---------+----------------+---------+------------------------------------------------------------------------------------------------------------------+\n",
            "only showing top 10 rows\n",
            "\n"
          ]
        }
      ],
      "source": [
        "assembler = VectorAssembler(\n",
        "    inputCols = indexd_data.columns,\n",
        "    outputCol = \"features\"\n",
        ")\n",
        "output = assembler.transform(indexd_data)\n",
        "output.show(10, truncate=False)"
      ]
    },
    {
      "cell_type": "code",
      "execution_count": null,
      "metadata": {
        "colab": {
          "base_uri": "https://localhost:8080/"
        },
        "id": "rd-FgWXoyHCV",
        "outputId": "67ac2e3f-26e7-408b-abd6-f492282edbb8"
      },
      "outputs": [
        {
          "name": "stdout",
          "output_type": "stream",
          "text": [
            "+----+------+------+---------+----------+-----------+---------+----------+-----+----+-----+---------+---------+---------+------------+----------+-------------+----------------+--------+--------+---------+----------------+---------+--------------------+--------------------+\n",
            "| age|height|weight|waistline|sight_left|sight_right|hear_left|hear_right|  SBP| DBP| BLDS|tot_chole|HDL_chole|LDL_chole|triglyceride|hemoglobin|urine_protein|serum_creatinine|SGOT_AST|SGOT_ALT|gamma_GTP|SMK_stat_type_cd|sex_index|            features|     scaled_features|\n",
            "+----+------+------+---------+----------+-----------+---------+----------+-----+----+-----+---------+---------+---------+------------+----------+-------------+----------------+--------+--------+---------+----------------+---------+--------------------+--------------------+\n",
            "|35.0| 170.0|  75.0|     90.0|       1.0|        1.0|      1.0|       1.0|120.0|80.0| 99.0|    193.0|     48.0|    126.0|        92.0|      17.1|          1.0|             1.0|    21.0|    35.0|     40.0|             1.0|      0.0|[35.0,170.0,75.0,...|[0.23076923076923...|\n",
            "|30.0| 180.0|  80.0|     89.0|       0.9|        1.2|      1.0|       1.0|130.0|82.0|106.0|    228.0|     55.0|    148.0|       121.0|      15.8|          1.0|             0.9|    20.0|    36.0|     27.0|             3.0|      0.0|[30.0,180.0,80.0,...|[0.15384615384615...|\n",
            "|40.0| 165.0|  75.0|     91.0|       1.2|        1.5|      1.0|       1.0|120.0|70.0| 98.0|    136.0|     41.0|     74.0|       104.0|      15.8|          1.0|             0.9|    47.0|    32.0|     68.0|             1.0|      0.0|[40.0,165.0,75.0,...|[0.30769230769230...|\n",
            "|50.0| 175.0|  80.0|     91.0|       1.5|        1.2|      1.0|       1.0|145.0|87.0| 95.0|    201.0|     76.0|    104.0|       106.0|      17.6|          1.0|             1.1|    29.0|    34.0|     18.0|             1.0|      0.0|[50.0,175.0,80.0,...|[0.46153846153846...|\n",
            "|50.0| 165.0|  60.0|     80.0|       1.0|        1.2|      1.0|       1.0|138.0|82.0|101.0|    199.0|     61.0|    117.0|       104.0|      13.8|          1.0|             0.8|    19.0|    12.0|     25.0|             1.0|      0.0|[50.0,165.0,60.0,...|[0.46153846153846...|\n",
            "|50.0| 165.0|  55.0|     75.0|       1.2|        1.5|      1.0|       1.0|142.0|92.0| 99.0|    218.0|     77.0|     95.0|       232.0|      13.8|          3.0|             0.8|    29.0|    40.0|     37.0|             3.0|      0.0|[50.0,165.0,55.0,...|[0.46153846153846...|\n",
            "|45.0| 150.0|  55.0|     69.0|       0.5|        0.4|      1.0|       1.0|101.0|58.0| 89.0|    196.0|     66.0|    115.0|        75.0|      12.3|          1.0|             0.8|    19.0|    12.0|     12.0|             1.0|      1.0|[45.0,150.0,55.0,...|[0.38461538461538...|\n",
            "|35.0| 175.0|  65.0|     84.2|       1.2|        1.0|      1.0|       1.0|132.0|80.0| 94.0|    185.0|     58.0|    107.0|       101.0|      14.4|          1.0|             0.8|    18.0|    18.0|     35.0|             3.0|      0.0|[35.0,175.0,65.0,...|[0.23076923076923...|\n",
            "|55.0| 170.0|  75.0|     84.0|       1.2|        0.9|      1.0|       1.0|145.0|85.0|104.0|    217.0|     56.0|    141.0|       100.0|      15.1|          1.0|             0.8|    32.0|    23.0|     26.0|             1.0|      0.0|[55.0,170.0,75.0,...|[0.53846153846153...|\n",
            "|45.0| 155.0|  55.0|     79.2|       1.0|        1.0|      1.0|       1.0|118.0|70.0| 90.0|    183.0|     42.0|    130.0|        55.0|      12.9|          1.0|             0.8|    19.0|    14.0|     19.0|             1.0|      0.0|[45.0,155.0,55.0,...|[0.38461538461538...|\n",
            "|55.0| 150.0|  55.0|     72.3|       1.2|        0.9|      1.0|       1.0|130.0|80.0|106.0|    183.0|     51.0|     89.0|       214.0|      13.1|          1.0|             0.8|    20.0|    20.0|     31.0|             1.0|      1.0|[55.0,150.0,55.0,...|[0.53846153846153...|\n",
            "|30.0| 175.0|  75.0|     88.0|       1.2|        1.2|      1.0|       1.0|118.0|72.0| 82.0|    200.0|     55.0|    129.0|        77.0|      15.7|          1.0|             0.9|    13.0|    16.0|     19.0|             1.0|      0.0|[30.0,175.0,75.0,...|[0.15384615384615...|\n",
            "|30.0| 160.0|  50.0|     76.0|       0.9|        1.0|      1.0|       1.0|129.0|77.0| 79.0|    205.0|     53.0|    108.0|       219.0|      14.5|          1.0|             0.6|    21.0|    24.0|     58.0|             1.0|      1.0|[30.0,160.0,50.0,...|[0.15384615384615...|\n",
            "|40.0| 170.0|  65.0|     80.0|       1.0|        1.0|      1.0|       1.0|113.0|72.0|104.0|    113.0|     44.0|     62.0|        35.0|      16.0|          2.0|             0.9|    15.0|    10.0|     12.0|             1.0|      0.0|[40.0,170.0,65.0,...|[0.30769230769230...|\n",
            "|25.0| 160.0|  65.0|     73.0|       1.2|        0.9|      1.0|       1.0|126.0|78.0| 96.0|    148.0|     54.0|     82.0|        60.0|      12.3|          1.0|             0.5|    12.0|     7.0|      9.0|             1.0|      1.0|[25.0,160.0,65.0,...|[0.07692307692307...|\n",
            "|25.0| 170.0|  65.0|     78.0|       1.2|        1.2|      1.0|       1.0|119.0|67.0|100.0|    147.0|     51.0|     85.0|        54.0|      14.8|          1.0|             0.9|    33.0|    17.0|     13.0|             1.0|      0.0|[25.0,170.0,65.0,...|[0.07692307692307...|\n",
            "|50.0| 170.0|  85.0|     99.0|       0.7|        0.8|      1.0|       1.0|121.0|74.0| 99.0|    180.0|     43.0|    103.0|       169.0|      14.4|          1.0|             1.2|    41.0|    51.0|     60.0|             1.0|      0.0|[50.0,170.0,85.0,...|[0.46153846153846...|\n",
            "|60.0| 165.0|  60.0|     85.0|       0.3|        0.7|      1.0|       1.0|120.0|85.0|105.0|    197.0|     42.0|    111.0|       222.0|      15.2|          1.0|             1.0|    19.0|    20.0|     48.0|             3.0|      0.0|[60.0,165.0,60.0,...|[0.61538461538461...|\n",
            "|35.0| 170.0|  50.0|     67.0|       1.0|        0.8|      1.0|       1.0|111.0|65.0| 88.0|    174.0|     66.0|     98.0|        46.0|      12.1|          1.0|             0.9|    19.0|    13.0|     18.0|             1.0|      1.0|[35.0,170.0,50.0,...|[0.23076923076923...|\n",
            "|25.0| 175.0|  65.0|     82.0|       1.5|        1.5|      1.0|       1.0|130.0|76.0| 95.0|    207.0|     62.0|    134.0|        57.0|      16.7|          1.0|             1.2|    28.0|    30.0|     32.0|             3.0|      0.0|[25.0,175.0,65.0,...|[0.07692307692307...|\n",
            "+----+------+------+---------+----------+-----------+---------+----------+-----+----+-----+---------+---------+---------+------------+----------+-------------+----------------+--------+--------+---------+----------------+---------+--------------------+--------------------+\n",
            "only showing top 20 rows\n",
            "\n"
          ]
        }
      ],
      "source": [
        "from pyspark.ml.feature import MinMaxScaler\n",
        "from pyspark.ml.feature import VectorAssembler\n",
        "from pyspark.ml import Pipeline\n",
        "\n",
        "selected_columns = [col for col in indexd_data.columns if col!=\"SMK_stat_type_cd\"]\n",
        "scaler = MinMaxScaler(inputCol=\"features\", outputCol=\"scaled_features\")\n",
        "\n",
        "scaler_model = scaler.fit(output)\n",
        "normalized_data = scaler_model.transform(output)\n",
        "normalized_data.show()"
      ]
    },
    {
      "cell_type": "code",
      "execution_count": null,
      "metadata": {
        "colab": {
          "base_uri": "https://localhost:8080/"
        },
        "id": "58a5aFSJ4ynW",
        "outputId": "0b897f18-dc95-4a24-c19a-0be1bfc81ef9"
      },
      "outputs": [
        {
          "name": "stdout",
          "output_type": "stream",
          "text": [
            "+--------------------+----------------+\n",
            "|     scaled_features|SMK_stat_type_cd|\n",
            "+--------------------+----------------+\n",
            "|[0.23076923076923...|             1.0|\n",
            "|[0.15384615384615...|             3.0|\n",
            "|[0.30769230769230...|             1.0|\n",
            "|[0.46153846153846...|             1.0|\n",
            "|[0.46153846153846...|             1.0|\n",
            "|[0.46153846153846...|             3.0|\n",
            "|[0.38461538461538...|             1.0|\n",
            "|[0.23076923076923...|             3.0|\n",
            "|[0.53846153846153...|             1.0|\n",
            "|[0.38461538461538...|             1.0|\n",
            "|[0.53846153846153...|             1.0|\n",
            "|[0.15384615384615...|             1.0|\n",
            "|[0.15384615384615...|             1.0|\n",
            "|[0.30769230769230...|             1.0|\n",
            "|[0.07692307692307...|             1.0|\n",
            "|[0.07692307692307...|             1.0|\n",
            "|[0.46153846153846...|             1.0|\n",
            "|[0.61538461538461...|             3.0|\n",
            "|[0.23076923076923...|             1.0|\n",
            "|[0.07692307692307...|             3.0|\n",
            "+--------------------+----------------+\n",
            "only showing top 20 rows\n",
            "\n"
          ]
        }
      ],
      "source": [
        "finalData = normalized_data.select(\"scaled_features\",\"SMK_stat_type_cd\")\n",
        "finalData.show()"
      ]
    },
    {
      "cell_type": "code",
      "execution_count": null,
      "metadata": {
        "id": "JW3Skl-z4V5m"
      },
      "outputs": [],
      "source": [
        "train_ratio = 0.8\n",
        "test_ratio = 1 - train_ratio\n",
        "train_data, test_data = finalData.randomSplit([train_ratio, test_ratio])"
      ]
    },
    {
      "cell_type": "code",
      "execution_count": null,
      "metadata": {
        "id": "EJ5OspR523bb"
      },
      "outputs": [],
      "source": [
        "from pyspark.ml.classification import LogisticRegression\n",
        "lr = LogisticRegression(featuresCol=\"scaled_features\", labelCol=\"SMK_stat_type_cd\")\n",
        "model = lr.fit(train_data)"
      ]
    },
    {
      "cell_type": "code",
      "execution_count": null,
      "metadata": {
        "colab": {
          "base_uri": "https://localhost:8080/"
        },
        "id": "mh1FsY3qBKvo",
        "outputId": "07267081-ad50-4a31-f939-712c6ce5dff1"
      },
      "outputs": [
        {
          "name": "stdout",
          "output_type": "stream",
          "text": [
            "+--------------------+----------------+--------------------+--------------------+----------+\n",
            "|     scaled_features|SMK_stat_type_cd|       rawPrediction|         probability|prediction|\n",
            "+--------------------+----------------+--------------------+--------------------+----------+\n",
            "|[0.0,0.2,0.142857...|             1.0|[-9.1338746962366...|[8.12583455933706...|       1.0|\n",
            "|[0.0,0.2,0.142857...|             1.0|[-9.1339454423368...|[9.79405795199131...|       1.0|\n",
            "|[0.0,0.2,0.142857...|             1.0|[-9.1355165589276...|[8.67059889165617...|       1.0|\n",
            "|[0.0,0.2,0.142857...|             1.0|[-9.1360710736488...|[7.79585910018134...|       1.0|\n",
            "|[0.0,0.2,0.142857...|             1.0|[-9.1337292421900...|[7.44483163428795...|       1.0|\n",
            "+--------------------+----------------+--------------------+--------------------+----------+\n",
            "only showing top 5 rows\n",
            "\n"
          ]
        }
      ],
      "source": [
        "predictions = model.transform(test_data)\n",
        "predictions.show(5)"
      ]
    },
    {
      "cell_type": "code",
      "execution_count": null,
      "metadata": {
        "colab": {
          "base_uri": "https://localhost:8080/"
        },
        "id": "hBO3CfudBQki",
        "outputId": "d2e91028-c9c6-49eb-e4e1-2e8299642b68"
      },
      "outputs": [
        {
          "name": "stdout",
          "output_type": "stream",
          "text": [
            "Logistic regression accuracy: 1.0\n"
          ]
        }
      ],
      "source": [
        "from pyspark.ml.evaluation import MulticlassClassificationEvaluator\n",
        "evaluator = MulticlassClassificationEvaluator(labelCol='SMK_stat_type_cd')\n",
        "auc = evaluator.evaluate(predictions)\n",
        "print(\"Logistic regression accuracy:\", auc)"
      ]
    },
    {
      "cell_type": "code",
      "execution_count": null,
      "metadata": {
        "colab": {
          "base_uri": "https://localhost:8080/",
          "height": 445
        },
        "id": "epLZ5J4JQf_2",
        "outputId": "c2b3321c-32b5-4664-dcaf-363dd1c9d7cd"
      },
      "outputs": [
        {
          "name": "stderr",
          "output_type": "stream",
          "text": [
            "/usr/local/lib/python3.10/dist-packages/pyspark/sql/context.py:158: FutureWarning: Deprecated in 3.0.0. Use SparkSession.builder.getOrCreate() instead.\n",
            "  warnings.warn(\n"
          ]
        },
        {
          "data": {
            "image/png": "[encoded data removed]",
            "text/plain": [
              "<Figure size 500x400 with 2 Axes>"
            ]
          },
          "metadata": {},
          "output_type": "display_data"
        }
      ],
      "source": [
        "import seaborn as sns\n",
        "import matplotlib.pyplot as plt\n",
        "from pyspark.mllib.evaluation import MulticlassMetrics\n",
        "\n",
        "predictionAndLabels = predictions.select(\"prediction\", \"SMK_stat_type_cd\").rdd\n",
        "\n",
        "metrics = MulticlassMetrics(predictionAndLabels)\n",
        "\n",
        "confusion_matrix = metrics.confusionMatrix().toArray()\n",
        "plt.figure(figsize=(5, 4))\n",
        "sns.heatmap(confusion_matrix, annot=True, fmt=\"g\", cmap=\"Blues\", xticklabels=[1,2,3], yticklabels=[1,2,3])\n",
        "plt.xlabel(\"Predicted Label\")\n",
        "plt.ylabel(\"True Label\")\n",
        "plt.title(\"Confusion Matrix\")\n",
        "plt.show()"
      ]
    },
    {
      "cell_type": "code",
      "execution_count": null,
      "metadata": {
        "colab": {
          "background_save": true
        },
        "id": "ovkxmQk8T-yi"
      },
      "outputs": [],
      "source": [
        "from pyspark.ml.classification import RandomForestClassifier\n",
        "rf = RandomForestClassifier(featuresCol=\"scaled_features\", labelCol='SMK_stat_type_cd',numTrees=200)\n",
        "model = rf.fit(train_data)"
      ]
    },
    {
      "cell_type": "code",
      "execution_count": null,
      "metadata": {
        "colab": {
          "base_uri": "https://localhost:8080/"
        },
        "id": "7P7wKNuyU4LZ",
        "outputId": "33bfcd91-b3bf-40dd-a4f5-76b0265187bc"
      },
      "outputs": [
        {
          "name": "stdout",
          "output_type": "stream",
          "text": [
            "+--------------------+----------------+--------------------+--------------------+----------+\n",
            "|     scaled_features|SMK_stat_type_cd|       rawPrediction|         probability|prediction|\n",
            "+--------------------+----------------+--------------------+--------------------+----------+\n",
            "|[0.0,0.2,0.071428...|             1.0|[0.0,195.19675422...|[0.0,0.9759837711...|       1.0|\n",
            "|[0.0,0.2,0.142857...|             1.0|[0.0,195.48278640...|[0.0,0.9774139320...|       1.0|\n",
            "|[0.0,0.2,0.142857...|             1.0|[0.0,195.04771786...|[0.0,0.9752385893...|       1.0|\n",
            "|[0.0,0.2,0.214285...|             1.0|[0.0,194.94535775...|[0.0,0.9747267887...|       1.0|\n",
            "|[0.0,0.2,0.214285...|             1.0|[0.0,195.16186148...|[0.0,0.9758093074...|       1.0|\n",
            "+--------------------+----------------+--------------------+--------------------+----------+\n",
            "only showing top 5 rows\n",
            "\n"
          ]
        }
      ],
      "source": [
        "predictions = model.transform(test_data)\n",
        "predictions.show(5)"
      ]
    },
    {
      "cell_type": "code",
      "execution_count": null,
      "metadata": {
        "colab": {
          "base_uri": "https://localhost:8080/"
        },
        "id": "oZe0J9uhU8eK",
        "outputId": "bed40499-baeb-4637-9e44-520ce6fcece2"
      },
      "outputs": [
        {
          "name": "stdout",
          "output_type": "stream",
          "text": [
            "Random Forest Accuracy: 1.0\n"
          ]
        }
      ],
      "source": [
        "from pyspark.ml.evaluation import MulticlassClassificationEvaluator\n",
        "evaluator = MulticlassClassificationEvaluator(labelCol='SMK_stat_type_cd',predictionCol='prediction', metricName=\"accuracy\")\n",
        "accuracy = evaluator.evaluate(predictions)\n",
        "\n",
        "# Display the accuracy\n",
        "print(\"Random Forest Accuracy:\", accuracy)"
      ]
    },
    {
      "cell_type": "code",
      "execution_count": null,
      "metadata": {
        "colab": {
          "base_uri": "https://localhost:8080/",
          "height": 410
        },
        "id": "P665MuTimLx4",
        "outputId": "6123cc99-ac76-4585-b553-69c4c26bfc5d"
      },
      "outputs": [
        {
          "data": {
            "image/png": "[encoded data removed]",
            "text/plain": [
              "<Figure size 500x400 with 2 Axes>"
            ]
          },
          "metadata": {},
          "output_type": "display_data"
        }
      ],
      "source": [
        "import seaborn as sns\n",
        "import matplotlib.pyplot as plt\n",
        "from pyspark.mllib.evaluation import MulticlassMetrics\n",
        "\n",
        "predictionAndLabels = predictions.select(\"prediction\", \"SMK_stat_type_cd\").rdd\n",
        "\n",
        "metrics = MulticlassMetrics(predictionAndLabels)\n",
        "\n",
        "confusion_matrix = metrics.confusionMatrix().toArray()\n",
        "plt.figure(figsize=(5, 4))\n",
        "sns.heatmap(confusion_matrix, annot=True, fmt=\"g\", cmap=\"Blues\", xticklabels=[1,2,3], yticklabels=[1,2,3])\n",
        "plt.xlabel(\"Predicted Label\")\n",
        "plt.ylabel(\"True Label\")\n",
        "plt.title(\"Confusion Matrix\")\n",
        "plt.show()"
      ]
    },
    {
      "cell_type": "code",
      "execution_count": null,
      "metadata": {
        "id": "cH0L4a97tXzp"
      },
      "outputs": [],
      "source": [
        "from pyspark.ml.classification import DecisionTreeClassifier\n",
        "dt = DecisionTreeClassifier(featuresCol=\"scaled_features\", labelCol='SMK_stat_type_cd',maxDepth=5)\n",
        "model = dt.fit(train_data)\n"
      ]
    },
    {
      "cell_type": "code",
      "execution_count": null,
      "metadata": {
        "colab": {
          "base_uri": "https://localhost:8080/"
        },
        "id": "ufap-M7GvkSP",
        "outputId": "31d0fecb-00d6-4323-d885-1444e029f4ff"
      },
      "outputs": [
        {
          "name": "stdout",
          "output_type": "stream",
          "text": [
            "+--------------------+----------------+--------------------+-----------------+----------+\n",
            "|     scaled_features|SMK_stat_type_cd|       rawPrediction|      probability|prediction|\n",
            "+--------------------+----------------+--------------------+-----------------+----------+\n",
            "|[0.0,0.2,0.071428...|             1.0|[0.0,439770.0,0.0...|[0.0,1.0,0.0,0.0]|       1.0|\n",
            "|[0.0,0.2,0.142857...|             1.0|[0.0,439770.0,0.0...|[0.0,1.0,0.0,0.0]|       1.0|\n",
            "|[0.0,0.2,0.142857...|             1.0|[0.0,439770.0,0.0...|[0.0,1.0,0.0,0.0]|       1.0|\n",
            "|[0.0,0.2,0.214285...|             1.0|[0.0,439770.0,0.0...|[0.0,1.0,0.0,0.0]|       1.0|\n",
            "|[0.0,0.2,0.214285...|             1.0|[0.0,439770.0,0.0...|[0.0,1.0,0.0,0.0]|       1.0|\n",
            "+--------------------+----------------+--------------------+-----------------+----------+\n",
            "only showing top 5 rows\n",
            "\n"
          ]
        }
      ],
      "source": [
        "predictions = model.transform(test_data)\n",
        "predictions.show(5)"
      ]
    },
    {
      "cell_type": "code",
      "execution_count": null,
      "metadata": {
        "colab": {
          "base_uri": "https://localhost:8080/"
        },
        "id": "cIudSsOwvENx",
        "outputId": "07cae904-7be4-42f3-9570-00ced401f44c"
      },
      "outputs": [
        {
          "name": "stdout",
          "output_type": "stream",
          "text": [
            "Decision tree Accuracy: 1.0\n"
          ]
        }
      ],
      "source": [
        "from pyspark.ml.evaluation import MulticlassClassificationEvaluator\n",
        "evaluator = MulticlassClassificationEvaluator(labelCol='SMK_stat_type_cd',predictionCol='prediction', metricName=\"accuracy\")\n",
        "accuracy = evaluator.evaluate(predictions)\n",
        "\n",
        "# Display the accuracy\n",
        "print(\"Decision tree Accuracy:\", accuracy)"
      ]
    },
    {
      "cell_type": "code",
      "execution_count": null,
      "metadata": {
        "colab": {
          "base_uri": "https://localhost:8080/",
          "height": 410
        },
        "id": "mwsZgFZdw6aJ",
        "outputId": "71259569-15b4-40e7-fe74-01fa7ec3561c"
      },
      "outputs": [
        {
          "data": {
            "image/png": "[encoded data removed]",
            "text/plain": [
              "<Figure size 500x400 with 2 Axes>"
            ]
          },
          "metadata": {},
          "output_type": "display_data"
        }
      ],
      "source": [
        "import seaborn as sns\n",
        "import matplotlib.pyplot as plt\n",
        "from pyspark.mllib.evaluation import MulticlassMetrics\n",
        "\n",
        "predictionAndLabels = predictions.select(\"prediction\", \"SMK_stat_type_cd\").rdd\n",
        "\n",
        "metrics = MulticlassMetrics(predictionAndLabels)\n",
        "\n",
        "confusion_matrix = metrics.confusionMatrix().toArray()\n",
        "plt.figure(figsize=(5, 4))\n",
        "sns.heatmap(confusion_matrix, annot=True, fmt=\"g\", cmap=\"Blues\", xticklabels=[1,2,3], yticklabels=[1,2,3])\n",
        "plt.xlabel(\"Predicted Label\")\n",
        "plt.ylabel(\"True Label\")\n",
        "plt.title(\"Confusion Matrix\")\n",
        "plt.show()"
      ]
    }
  ],
  "metadata": {
    "colab": {
      "provenance": [],
      "include_colab_link": true
    },
    "kernelspec": {
      "display_name": "Python 3",
      "name": "python3"
    },
    "language_info": {
      "name": "python"
    }
  },
  "nbformat": 4,
  "nbformat_minor": 0
}